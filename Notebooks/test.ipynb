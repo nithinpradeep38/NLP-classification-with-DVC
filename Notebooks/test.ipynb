{
 "cells": [
  {
   "cell_type": "code",
   "execution_count": 2,
   "metadata": {},
   "outputs": [],
   "source": [
    "import os\n",
    "os.chdir('../')"
   ]
  },
  {
   "cell_type": "code",
   "execution_count": 7,
   "metadata": {},
   "outputs": [],
   "source": [
    "from tqdm import tqdm"
   ]
  },
  {
   "cell_type": "code",
   "execution_count": 15,
   "metadata": {},
   "outputs": [
    {
     "data": {
      "text/plain": [
       "'data'"
      ]
     },
     "execution_count": 15,
     "metadata": {},
     "output_type": "execute_result"
    }
   ],
   "source": [
    "from src.utils.common import read_yaml\n",
    "config= read_yaml(\"configs/config.yaml\")\n",
    "config['source_data']['data_dir']"
   ]
  },
  {
   "cell_type": "code",
   "execution_count": 11,
   "metadata": {},
   "outputs": [
    {
     "name": "stdout",
     "output_type": "stream",
     "text": [
      "  <row Id=\"4186249\" PostTypeId=\"1\" AcceptedAnswerId=\"4186674\" CreationDate=\"2010-11-15T16:06:29.293\" Score=\"2\" ViewCount=\"1246\" Body=\"&lt;p&gt;While going through one of the problems in &lt;a href=&quot;http://www.pythonchallenge.com/&quot; rel=&quot;nofollow&quot;&gt;Python Challenge&lt;/a&gt;, I am trying to solve it as follows:&lt;/p&gt;&#xA;&#xA;&lt;p&gt;Read the input in a text file with characters as follows:&lt;/p&gt;&#xA;&#xA;&lt;pre&gt;&lt;code&gt;DQheAbsaMLjTmAOKmNsLziVMenFxQdATQIjItwtyCHyeMwQTNxbbLXWZnGmDqHhXnLHfEyvzxMhSXzd&#xA;BEBaxeaPgQPttvqRvxHPEOUtIsttPDeeuGFgmDkKQcEYjuSuiGROGfYpzkQgvcCDBKrcYwHFlvPzDMEk&#xA;MyuPxvGtgSvWgrybKOnbEGhqHUXHhnyjFwSfTfaiWtAOMBZEScsOSumwPssjCPlLbLsPIGffDLpZzMKz&#xA;jarrjufhgxdrzywWosrblPRasvRUpZLaUbtDHGZQtvZOvHeVSTBHpitDllUljVvWrwvhpnVzeWVYhMPs&#xA;kMVcdeHzFZxTWocGvaKhhcnozRSbWsIEhpeNfJaRjLwWCvKfTLhuVsJczIYFPCyrOJxOPkXhVuCqCUgE&#xA;luwLBCmqPwDvUPuBRrJZhfEXHXSBvljqJVVfEGRUWRSHPeKUJCpMpIsrV.......&#xA;&lt;/code&gt;&lt;/pre&gt;&#xA;&#xA;&lt;p&gt;What I need is to go through this text file and pick all lower case letters that are enclosed by only three upper-case letters on each side.&lt;/p&gt;&#xA;&#xA;&lt;p&gt;The python script that I wrote to do the above is as follows:&lt;/p&gt;&#xA;&#xA;&lt;pre&gt;&lt;code&gt;import re&#xA;&#xA;pattern = re.compile(&quot;[a-z][A-Z]{3}([a-z])[A-Z]{3}[a-z]&quot;)&#xA;f = open('/Users/Dev/Sometext.txt','r')&#xA;for line in f:&#xA;    result = pattern.search(line)&#xA;    if result:&#xA;       print result.groups()&#xA;&#xA; f.close()&#xA;&lt;/code&gt;&lt;/pre&gt;&#xA;&#xA;&lt;p&gt;The above given script, instead of returning the capture(list of lower case characters), returns all the text blocks that meets the regular expression criteria, like&lt;/p&gt;&#xA;&#xA;&lt;pre&gt;&lt;code&gt;aXCSdFGHj&#xA;vCDFeTYHa&#xA;nHJUiKJHo&#xA;.........&#xA;.........&#xA;&lt;/code&gt;&lt;/pre&gt;&#xA;&#xA;&lt;p&gt;Can somebody tell me what exactly I am doing wrong here? And instead of looping through the entire file, is there an alternate way to run the regular expression search on the entire file?&lt;/p&gt;&#xA;&#xA;&lt;p&gt;Thanks&lt;/p&gt;&#xA;\" OwnerUserId=\"207072\" LastEditorUserId=\"207072\" LastEditDate=\"2010-11-15T16:26:04.447\" LastActivityDate=\"2010-11-15T17:08:56.730\" Title=\"Searching and capturing a character using regular expressions Python\" Tags=\"&lt;python&gt;&lt;regex&gt;&lt;search&gt;&lt;text-files&gt;\" AnswerCount=\"3\" CommentCount=\"0\" />\n",
      "\n"
     ]
    }
   ],
   "source": [
    "input_data_path= os.path.join('data','data.xml')\n",
    "with open(input_data_path, encoding= 'utf8') as f:\n",
    "    first_line= f.readline()\n",
    "    print(first_line)"
   ]
  },
  {
   "cell_type": "code",
   "execution_count": 9,
   "metadata": {},
   "outputs": [],
   "source": [
    "from tqdm import tqdm\n",
    "import random\n",
    "import xml.etree.ElementTree as ET\n",
    "import re"
   ]
  },
  {
   "cell_type": "code",
   "execution_count": 14,
   "metadata": {},
   "outputs": [
    {
     "name": "stdout",
     "output_type": "stream",
     "text": [
      "pid: 4186249\n",
      "label: 1\n",
      "text: Searching and capturing a character using regular expressions Python<p>While going through one of the problems in <a href=\"http://www.pythonchallenge.com/\" rel=\"nofollow\">Python Challenge</a>, I am trying to solve it as follows:</p> <p>Read the input in a text file with characters as follows:</p> <pre><code>DQheAbsaMLjTmAOKmNsLziVMenFxQdATQIjItwtyCHyeMwQTNxbbLXWZnGmDqHhXnLHfEyvzxMhSXzd BEBaxeaPgQPttvqRvxHPEOUtIsttPDeeuGFgmDkKQcEYjuSuiGROGfYpzkQgvcCDBKrcYwHFlvPzDMEk MyuPxvGtgSvWgrybKOnbEGhqHUXHhnyjFwSfTfaiWtAOMBZEScsOSumwPssjCPlLbLsPIGffDLpZzMKz jarrjufhgxdrzywWosrblPRasvRUpZLaUbtDHGZQtvZOvHeVSTBHpitDllUljVvWrwvhpnVzeWVYhMPs kMVcdeHzFZxTWocGvaKhhcnozRSbWsIEhpeNfJaRjLwWCvKfTLhuVsJczIYFPCyrOJxOPkXhVuCqCUgE luwLBCmqPwDvUPuBRrJZhfEXHXSBvljqJVVfEGRUWRSHPeKUJCpMpIsrV....... </code></pre> <p>What I need is to go through this text file and pick all lower case letters that are enclosed by only three upper-case letters on each side.</p> <p>The python script that I wrote to do the above is as follows:</p> <pre><code>import re pattern = re.compile(\"[a-z][A-Z]{3}([a-z])[A-Z]{3}[a-z]\") f = open('/Users/Dev/Sometext.txt','r') for line in f: result = pattern.search(line) if result: print result.groups() f.close() </code></pre> <p>The above given script, instead of returning the capture(list of lower case characters), returns all the text blocks that meets the regular expression criteria, like</p> <pre><code>aXCSdFGHj vCDFeTYHa nHJUiKJHo ......... ......... </code></pre> <p>Can somebody tell me what exactly I am doing wrong here? And instead of looping through the entire file, is there an alternate way to run the regular expression search on the entire file?</p> <p>Thanks</p>\n"
     ]
    }
   ],
   "source": [
    "target_tag= '<python>'\n",
    "\n",
    "input_data_path= os.path.join('data','data.xml')\n",
    "with open(input_data_path, encoding= 'utf8') as f:\n",
    "        first_line= f.readline()\n",
    "        attr= ET.fromstring(first_line).attrib\n",
    "        pid= attr.get('Id',\"\")\n",
    "        label= 1 if target_tag in attr.get('Tags', \"\") else 0\n",
    "        title= re.sub(r\"\\s+\",\" \",attr.get('Title',\"\")).strip()\n",
    "        body= re.sub(r\"\\s+\", \" \",attr.get('Body',\"\")).strip()\n",
    "        text= f\"{title}{body}\"\n",
    "\n",
    "        print(f\"pid: {pid}\")\n",
    "        print(f\"label: {label}\")\n",
    "        print(f\"text: {text}\")\n",
    "\n",
    "\n",
    "\n",
    "        "
   ]
  },
  {
   "cell_type": "code",
   "execution_count": null,
   "metadata": {},
   "outputs": [],
   "source": []
  }
 ],
 "metadata": {
  "kernelspec": {
   "display_name": "Python 3",
   "language": "python",
   "name": "python3"
  },
  "language_info": {
   "codemirror_mode": {
    "name": "ipython",
    "version": 3
   },
   "file_extension": ".py",
   "mimetype": "text/x-python",
   "name": "python",
   "nbconvert_exporter": "python",
   "pygments_lexer": "ipython3",
   "version": "3.8.18"
  }
 },
 "nbformat": 4,
 "nbformat_minor": 2
}
